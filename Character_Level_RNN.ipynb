{
 "cells": [
  {
   "cell_type": "markdown",
   "metadata": {},
   "source": [
    "# Character-Level LSTM in PyTorch\n",
    "\n",
    "In this notebook, I'll construct a character-level LSTM with PyTorch. The network will train character by character on some text, then generate new text character by character. As an example, I will train on Anna Karenina. **This model will be able to generate new text based on the text from the book!**\n",
    "\n",
    "This network is based off of Andrej Karpathy's [post on RNNs](http://karpathy.github.io/2015/05/21/rnn-effectiveness/) and [implementation in Torch](https://github.com/karpathy/char-rnn). Below is the general architecture of the character-wise RNN.\n",
    "\n",
    "<img src=\"assets/charseq.jpeg\" width=\"500\">"
   ]
  },
  {
   "cell_type": "markdown",
   "metadata": {},
   "source": [
    "First let's load in our required resources for data loading and model creation."
   ]
  },
  {
   "cell_type": "code",
   "execution_count": 1,
   "metadata": {},
   "outputs": [],
   "source": [
    "import numpy as np\n",
    "import torch\n",
    "from torch import nn\n",
    "import torch.nn.functional as F"
   ]
  },
  {
   "cell_type": "markdown",
   "metadata": {},
   "source": [
    "## Load in Data\n",
    "\n",
    "Then, we'll load the Anna Karenina text file and convert it into integers for our network to use. "
   ]
  },
  {
   "cell_type": "code",
   "execution_count": 2,
   "metadata": {},
   "outputs": [],
   "source": [
    "# open text file and read in data as `text`\n",
    "with open('data/anna.txt', 'r') as f:\n",
    "    text = f.read()"
   ]
  },
  {
   "cell_type": "markdown",
   "metadata": {},
   "source": [
    "Let's check out the first 100 characters, make sure everything is peachy. According to the [American Book Review](http://americanbookreview.org/100bestlines.asp), this is the 6th best first line of a book ever."
   ]
  },
  {
   "cell_type": "code",
   "execution_count": 3,
   "metadata": {},
   "outputs": [
    {
     "data": {
      "text/plain": [
       "'Chapter 1\\n\\n\\nHappy families are all alike; every unhappy family is unhappy in its own\\nway.\\n\\nEverythin'"
      ]
     },
     "execution_count": 3,
     "metadata": {},
     "output_type": "execute_result"
    }
   ],
   "source": [
    "text[:100]"
   ]
  },
  {
   "cell_type": "markdown",
   "metadata": {},
   "source": [
    "### Tokenization\n",
    "\n",
    "In the cells, below, I'm creating a couple **dictionaries** to convert the characters to and from integers. Encoding the characters as integers makes it easier to use as input in the network."
   ]
  },
  {
   "cell_type": "code",
   "execution_count": 5,
   "metadata": {},
   "outputs": [],
   "source": [
    "sentence=\"I love you my wife\""
   ]
  },
  {
   "cell_type": "code",
   "execution_count": 6,
   "metadata": {},
   "outputs": [],
   "source": [
    "x=tuple(set(sentence))"
   ]
  },
  {
   "cell_type": "code",
   "execution_count": 7,
   "metadata": {},
   "outputs": [
    {
     "data": {
      "text/plain": [
       "('v', 'e', 'u', 'w', 'y', 'i', 'l', 'm', 'f', 'I', ' ', 'o')"
      ]
     },
     "execution_count": 7,
     "metadata": {},
     "output_type": "execute_result"
    }
   ],
   "source": [
    "x"
   ]
  },
  {
   "cell_type": "code",
   "execution_count": 8,
   "metadata": {},
   "outputs": [],
   "source": [
    "x1 =dict(enumerate(x))"
   ]
  },
  {
   "cell_type": "code",
   "execution_count": 9,
   "metadata": {},
   "outputs": [
    {
     "data": {
      "text/plain": [
       "{0: 'v',\n",
       " 1: 'e',\n",
       " 2: 'u',\n",
       " 3: 'w',\n",
       " 4: 'y',\n",
       " 5: 'i',\n",
       " 6: 'l',\n",
       " 7: 'm',\n",
       " 8: 'f',\n",
       " 9: 'I',\n",
       " 10: ' ',\n",
       " 11: 'o'}"
      ]
     },
     "execution_count": 9,
     "metadata": {},
     "output_type": "execute_result"
    }
   ],
   "source": [
    "x1"
   ]
  },
  {
   "cell_type": "code",
   "execution_count": 10,
   "metadata": {},
   "outputs": [],
   "source": [
    "back ={ch:num for num,ch in x1.items()}"
   ]
  },
  {
   "cell_type": "code",
   "execution_count": 11,
   "metadata": {},
   "outputs": [
    {
     "data": {
      "text/plain": [
       "{'v': 0,\n",
       " 'e': 1,\n",
       " 'u': 2,\n",
       " 'w': 3,\n",
       " 'y': 4,\n",
       " 'i': 5,\n",
       " 'l': 6,\n",
       " 'm': 7,\n",
       " 'f': 8,\n",
       " 'I': 9,\n",
       " ' ': 10,\n",
       " 'o': 11}"
      ]
     },
     "execution_count": 11,
     "metadata": {},
     "output_type": "execute_result"
    }
   ],
   "source": [
    "back"
   ]
  },
  {
   "cell_type": "code",
   "execution_count": 17,
   "metadata": {},
   "outputs": [],
   "source": [
    "enc =np.array([back[x] for x in sentence])"
   ]
  },
  {
   "cell_type": "code",
   "execution_count": 15,
   "metadata": {},
   "outputs": [
    {
     "data": {
      "text/plain": [
       "array([ 9, 10,  6, 11,  0,  1, 10,  4, 11,  2, 10,  7,  4, 10,  3,  5,  8,\n",
       "        1])"
      ]
     },
     "execution_count": 15,
     "metadata": {},
     "output_type": "execute_result"
    }
   ],
   "source": [
    "enc"
   ]
  },
  {
   "cell_type": "code",
   "execution_count": 20,
   "metadata": {},
   "outputs": [
    {
     "data": {
      "text/plain": [
       "'v'"
      ]
     },
     "execution_count": 20,
     "metadata": {},
     "output_type": "execute_result"
    }
   ],
   "source": [
    "x1[0]"
   ]
  },
  {
   "cell_type": "code",
   "execution_count": 21,
   "metadata": {},
   "outputs": [],
   "source": [
    "# encode the text and map each character to an integer and vice versa\n",
    "\n",
    "# we create two dictionaries:\n",
    "# 1. int2char, which maps integers to characters\n",
    "# 2. char2int, which maps characters to unique integers\n",
    "chars = tuple(set(text))\n",
    "int2char = dict(enumerate(chars))\n",
    "char2int = {ch: ii for ii, ch in int2char.items()}\n",
    "\n",
    "# encode the text\n",
    "encoded = np.array([char2int[ch] for ch in text])"
   ]
  },
  {
   "cell_type": "markdown",
   "metadata": {},
   "source": [
    "And we can see those same characters from above, encoded as integers."
   ]
  },
  {
   "cell_type": "code",
   "execution_count": 22,
   "metadata": {},
   "outputs": [
    {
     "data": {
      "text/plain": [
       "array([42, 68, 69, 43, 28, 46, 66, 74,  4, 55, 55, 55, 75, 69, 43, 43, 61,\n",
       "       74, 54, 69,  2,  1, 29,  1, 46, 16, 74, 69, 66, 46, 74, 69, 29, 29,\n",
       "       74, 69, 29,  1, 48, 46,  0, 74, 46, 65, 46, 66, 61, 74,  8, 57, 68,\n",
       "       69, 43, 43, 61, 74, 54, 69,  2,  1, 29, 61, 74,  1, 16, 74,  8, 57,\n",
       "       68, 69, 43, 43, 61, 74,  1, 57, 74,  1, 28, 16, 74, 33, 25, 57, 55,\n",
       "       25, 69, 61, 15, 55, 55, 47, 65, 46, 66, 61, 28, 68,  1, 57])"
      ]
     },
     "execution_count": 22,
     "metadata": {},
     "output_type": "execute_result"
    }
   ],
   "source": [
    "encoded[:100]"
   ]
  },
  {
   "cell_type": "markdown",
   "metadata": {},
   "source": [
    "## Pre-processing the data\n",
    "\n",
    "As you can see in our char-RNN image above, our LSTM expects an input that is **one-hot encoded** meaning that each character is converted into an integer (via our created dictionary) and *then* converted into a column vector where only it's corresponding integer index will have the value of 1 and the rest of the vector will be filled with 0's. Since we're one-hot encoding the data, let's make a function to do that!\n"
   ]
  },
  {
   "cell_type": "code",
   "execution_count": 34,
   "metadata": {},
   "outputs": [],
   "source": [
    "def one_hot_encode(arr, n_labels):\n",
    "    \n",
    "    # Initialize the encoded array\n",
    "    one_hot = np.zeros((arr.size, n_labels), dtype=np.float32)\n",
    "    \n",
    "    # Fill the appropriate elements with ones\n",
    "    one_hot[np.arange(one_hot.shape[0]), arr.flatten()] = 1.\n",
    "    \n",
    "    # Finally reshape it to get back to the original array\n",
    "    one_hot = one_hot.reshape((*arr.shape, n_labels))\n",
    "    \n",
    "    return one_hot"
   ]
  },
  {
   "cell_type": "code",
   "execution_count": 35,
   "metadata": {},
   "outputs": [],
   "source": [
    "# z=np.array([[3, 5, 1,4]])"
   ]
  },
  {
   "cell_type": "code",
   "execution_count": 36,
   "metadata": {},
   "outputs": [],
   "source": [
    "# z.size"
   ]
  },
  {
   "cell_type": "code",
   "execution_count": 37,
   "metadata": {},
   "outputs": [
    {
     "name": "stdout",
     "output_type": "stream",
     "text": [
      "[[[0. 0. 0. 1. 0. 0. 0. 0.]\n",
      "  [0. 0. 0. 0. 0. 1. 0. 0.]\n",
      "  [0. 1. 0. 0. 0. 0. 0. 0.]]]\n"
     ]
    }
   ],
   "source": [
    "# check that the function works as expected\n",
    "test_seq = np.array([[3, 5, 1]])\n",
    "one_hot = one_hot_encode(test_seq, 8)\n",
    "\n",
    "print(one_hot)"
   ]
  },
  {
   "cell_type": "markdown",
   "metadata": {},
   "source": [
    "## Making training mini-batches\n",
    "\n",
    "\n",
    "To train on this data, we also want to create mini-batches for training. Remember that we want our batches to be multiple sequences of some desired number of sequence steps. Considering a simple example, our batches would look like this:\n",
    "\n",
    "<img src=\"assets/sequence_batching@1x.png\" width=500px>\n",
    "\n",
    "\n",
    "<br>\n",
    "\n",
    "In this example, we'll take the encoded characters (passed in as the `arr` parameter) and split them into multiple sequences, given by `batch_size`. Each of our sequences will be `seq_length` long.\n",
    "\n",
    "### Creating Batches\n",
    "\n",
    "**1. The first thing we need to do is discard some of the text so we only have completely full mini-batches. **\n",
    "\n",
    "Each batch contains $N \\times M$ characters, where $N$ is the batch size (the number of sequences in a batch) and $M$ is the seq_length or number of time steps in a sequence. Then, to get the total number of batches, $K$, that we can make from the array `arr`, you divide the length of `arr` by the number of characters per batch. Once you know the number of batches, you can get the total number of characters to keep from `arr`, $N * M * K$.\n",
    "\n",
    "**2. After that, we need to split `arr` into $N$ batches. ** \n",
    "\n",
    "You can do this using `arr.reshape(size)` where `size` is a tuple containing the dimensions sizes of the reshaped array. We know we want $N$ sequences in a batch, so let's make that the size of the first dimension. For the second dimension, you can use `-1` as a placeholder in the size, it'll fill up the array with the appropriate data for you. After this, you should have an array that is $N \\times (M * K)$.\n",
    "\n",
    "**3. Now that we have this array, we can iterate through it to get our mini-batches. **\n",
    "\n",
    "The idea is each batch is a $N \\times M$ window on the $N \\times (M * K)$ array. For each subsequent batch, the window moves over by `seq_length`. We also want to create both the input and target arrays. Remember that the targets are just the inputs shifted over by one character. The way I like to do this window is use `range` to take steps of size `n_steps` from $0$ to `arr.shape[1]`, the total number of tokens in each sequence. That way, the integers you get from `range` always point to the start of a batch, and each window is `seq_length` wide.\n",
    "\n",
    "> **TODO:** Write the code for creating batches in the function below. The exercises in this notebook _will not be easy_. I've provided a notebook with solutions alongside this notebook. If you get stuck, checkout the solutions. The most important thing is that you don't copy and paste the code into here, **type out the solution code yourself.**"
   ]
  },
  {
   "cell_type": "code",
   "execution_count": 38,
   "metadata": {},
   "outputs": [],
   "source": [
    "def get_batches(arr, batch_size, seq_length):\n",
    "    '''Create a generator that returns batches of size\n",
    "       batch_size x seq_length from arr.\n",
    "       \n",
    "       Arguments\n",
    "       ---------\n",
    "       arr: Array you want to make batches from\n",
    "       batch_size: Batch size, the number of sequences per batch\n",
    "       seq_length: Number of encoded chars in a sequence\n",
    "    '''\n",
    "    \n",
    "    ## TODO: Get the number of batches we can make\n",
    "    n_batches = arr.size//(batch_size*seq_length)\n",
    "    \n",
    "    ## TODO: Keep only enough characters to make full batches\n",
    "    arr = arr[:n_batches*batch_size*seq_length]\n",
    "    \n",
    "    ## TODO: Reshape into batch_size rows\n",
    "    arr = arr.reshape(batch_size,-1)\n",
    "    \n",
    "    ## TODO: Iterate over the batches using a window of size seq_length\n",
    "    for n in range(0, arr.shape[1], seq_length):\n",
    "        # The features\n",
    "        x =arr[:,n:n+seq_length] \n",
    "        # The targets, shifted by one\n",
    "        y = np.zeros_like(x)\n",
    "        try:\n",
    "            y[:,:-1],y[:,-1] =x[:,1:],arr[:,n+seq_length]\n",
    "        except IndexError:\n",
    "             y[:,:-1],y[:,-1] =x[:,1:],arr[:,0]\n",
    "            \n",
    "        yield x, y"
   ]
  },
  {
   "cell_type": "code",
   "execution_count": 39,
   "metadata": {},
   "outputs": [],
   "source": [
    "batches = get_batches(encoded, 8, 50)\n",
    "x, y = next(batches)"
   ]
  },
  {
   "cell_type": "code",
   "execution_count": 40,
   "metadata": {},
   "outputs": [
    {
     "name": "stdout",
     "output_type": "stream",
     "text": [
      "x\n",
      " [[42 68 69 43 28 46 66 74  4 55]\n",
      " [16 33 57 74 28 68 69 28 74 69]\n",
      " [46 57 13 74 33 66 74 69 74 54]\n",
      " [16 74 28 68 46 74 58 68  1 46]\n",
      " [74 16 69 25 74 68 46 66 74 28]\n",
      " [58  8 16 16  1 33 57 74 69 57]\n",
      " [74 12 57 57 69 74 68 69 13 74]\n",
      " [72 60 29 33 57 16 48 61 15 74]]\n",
      "\n",
      "y\n",
      " [[68 69 43 28 46 66 74  4 55 55]\n",
      " [33 57 74 28 68 69 28 74 69 28]\n",
      " [57 13 74 33 66 74 69 74 54 33]\n",
      " [74 28 68 46 74 58 68  1 46 54]\n",
      " [16 69 25 74 68 46 66 74 28 46]\n",
      " [ 8 16 16  1 33 57 74 69 57 13]\n",
      " [12 57 57 69 74 68 69 13 74 16]\n",
      " [60 29 33 57 16 48 61 15 74 11]]\n"
     ]
    }
   ],
   "source": [
    "# printing out the first 10 items in a sequence\n",
    "print('x\\n', x[:10, :10])\n",
    "print('\\ny\\n', y[:10, :10])"
   ]
  },
  {
   "cell_type": "markdown",
   "metadata": {},
   "source": [
    "### Test Your Implementation\n",
    "\n",
    "Now I'll make some data sets and we can check out what's going on as we batch data. Here, as an example, I'm going to use a batch size of 8 and 50 sequence steps."
   ]
  },
  {
   "cell_type": "code",
   "execution_count": null,
   "metadata": {
    "collapsed": true
   },
   "outputs": [],
   "source": [
    "batches = get_batches(encoded, 8, 50)\n",
    "x, y = next(batches)"
   ]
  },
  {
   "cell_type": "code",
   "execution_count": 41,
   "metadata": {},
   "outputs": [
    {
     "name": "stdout",
     "output_type": "stream",
     "text": [
      "x\n",
      " [[42 68 69 43 28 46 66 74  4 55]\n",
      " [16 33 57 74 28 68 69 28 74 69]\n",
      " [46 57 13 74 33 66 74 69 74 54]\n",
      " [16 74 28 68 46 74 58 68  1 46]\n",
      " [74 16 69 25 74 68 46 66 74 28]\n",
      " [58  8 16 16  1 33 57 74 69 57]\n",
      " [74 12 57 57 69 74 68 69 13 74]\n",
      " [72 60 29 33 57 16 48 61 15 74]]\n",
      "\n",
      "y\n",
      " [[68 69 43 28 46 66 74  4 55 55]\n",
      " [33 57 74 28 68 69 28 74 69 28]\n",
      " [57 13 74 33 66 74 69 74 54 33]\n",
      " [74 28 68 46 74 58 68  1 46 54]\n",
      " [16 69 25 74 68 46 66 74 28 46]\n",
      " [ 8 16 16  1 33 57 74 69 57 13]\n",
      " [12 57 57 69 74 68 69 13 74 16]\n",
      " [60 29 33 57 16 48 61 15 74 11]]\n"
     ]
    }
   ],
   "source": [
    "# printing out the first 10 items in a sequence\n",
    "print('x\\n', x[:10, :10])\n",
    "print('\\ny\\n', y[:10, :10])"
   ]
  },
  {
   "cell_type": "markdown",
   "metadata": {},
   "source": [
    "If you implemented `get_batches` correctly, the above output should look something like \n",
    "```\n",
    "x\n",
    " [[25  8 60 11 45 27 28 73  1  2]\n",
    " [17  7 20 73 45  8 60 45 73 60]\n",
    " [27 20 80 73  7 28 73 60 73 65]\n",
    " [17 73 45  8 27 73 66  8 46 27]\n",
    " [73 17 60 12 73  8 27 28 73 45]\n",
    " [66 64 17 17 46  7 20 73 60 20]\n",
    " [73 76 20 20 60 73  8 60 80 73]\n",
    " [47 35 43  7 20 17 24 50 37 73]]\n",
    "\n",
    "y\n",
    " [[ 8 60 11 45 27 28 73  1  2  2]\n",
    " [ 7 20 73 45  8 60 45 73 60 45]\n",
    " [20 80 73  7 28 73 60 73 65  7]\n",
    " [73 45  8 27 73 66  8 46 27 65]\n",
    " [17 60 12 73  8 27 28 73 45 27]\n",
    " [64 17 17 46  7 20 73 60 20 80]\n",
    " [76 20 20 60 73  8 60 80 73 17]\n",
    " [35 43  7 20 17 24 50 37 73 36]]\n",
    " ```\n",
    " although the exact numbers may be different. Check to make sure the data is shifted over one step for `y`."
   ]
  },
  {
   "cell_type": "markdown",
   "metadata": {},
   "source": [
    "---\n",
    "## Defining the network with PyTorch\n",
    "\n",
    "Below is where you'll define the network.\n",
    "\n",
    "<img src=\"assets/charRNN.png\" width=500px>\n",
    "\n",
    "Next, you'll use PyTorch to define the architecture of the network. We start by defining the layers and operations we want. Then, define a method for the forward pass. You've also been given a method for predicting characters."
   ]
  },
  {
   "cell_type": "markdown",
   "metadata": {},
   "source": [
    "### Model Structure\n",
    "\n",
    "In `__init__` the suggested structure is as follows:\n",
    "* Create and store the necessary dictionaries (this has been done for you)\n",
    "* Define an LSTM layer that takes as params: an input size (the number of characters), a hidden layer size `n_hidden`, a number of layers `n_layers`, a dropout probability `drop_prob`, and a batch_first boolean (True, since we are batching)\n",
    "* Define a dropout layer with `drop_prob`\n",
    "* Define a fully-connected layer with params: input size `n_hidden` and output size (the number of characters)\n",
    "* Finally, initialize the weights (again, this has been given)\n",
    "\n",
    "Note that some parameters have been named and given in the `__init__` function, and we use them and store them by doing something like `self.drop_prob = drop_prob`."
   ]
  },
  {
   "cell_type": "markdown",
   "metadata": {},
   "source": [
    "---\n",
    "### LSTM Inputs/Outputs\n",
    "\n",
    "You can create a basic [LSTM layer](https://pytorch.org/docs/stable/nn.html#lstm) as follows\n",
    "\n",
    "```python\n",
    "self.lstm = nn.LSTM(input_size, n_hidden, n_layers, \n",
    "                            dropout=drop_prob, batch_first=True)\n",
    "```\n",
    "\n",
    "where `input_size` is the number of characters this cell expects to see as sequential input, and `n_hidden` is the number of units in the hidden layers in the cell. And we can add dropout by adding a dropout parameter with a specified probability; this will automatically add dropout to the inputs or outputs. Finally, in the `forward` function, we can stack up the LSTM cells into layers using `.view`. With this, you pass in a list of cells and it will send the output of one cell into the next cell.\n",
    "\n",
    "We also need to create an initial hidden state of all zeros. This is done like so\n",
    "\n",
    "```python\n",
    "self.init_hidden()\n",
    "```"
   ]
  },
  {
   "cell_type": "code",
   "execution_count": 42,
   "metadata": {},
   "outputs": [
    {
     "name": "stdout",
     "output_type": "stream",
     "text": [
      "No GPU available, training on CPU; consider making n_epochs very small.\n"
     ]
    }
   ],
   "source": [
    "# check if GPU is available\n",
    "train_on_gpu = torch.cuda.is_available()\n",
    "if(train_on_gpu):\n",
    "    print('Training on GPU!')\n",
    "else: \n",
    "    print('No GPU available, training on CPU; consider making n_epochs very small.')"
   ]
  },
  {
   "cell_type": "code",
   "execution_count": 43,
   "metadata": {},
   "outputs": [],
   "source": [
    "class CharRNN(nn.Module):\n",
    "    \n",
    "    def __init__(self, tokens, n_hidden=256, n_layers=2,\n",
    "                               drop_prob=0.5, lr=0.001):\n",
    "        super().__init__()\n",
    "        self.drop_prob = drop_prob\n",
    "        self.n_layers = n_layers\n",
    "        self.n_hidden = n_hidden\n",
    "        self.lr = lr\n",
    "        \n",
    "        # creating character dictionaries\n",
    "        self.chars = tokens\n",
    "        self.int2char = dict(enumerate(self.chars))\n",
    "        self.char2int = {ch: ii for ii, ch in self.int2char.items()}\n",
    "        \n",
    "        ## TODO: define the layers of the model\n",
    "        self.lstm =nn.LSTM(len(self.chars),n_hidden,n_layers,dropout=drop_prob,batch_first=True)\n",
    "        self.dropout=nn.Dropout(drop_prob)\n",
    "        self.fc=nn.Linear(n_hidden,len(self.chars))\n",
    "      \n",
    "    \n",
    "    def forward(self, x, hidden):\n",
    "        ''' Forward pass through the network. \n",
    "            These inputs are x, and the hidden/cell state `hidden`. '''\n",
    "                \n",
    "        ## TODO: Get the outputs and the new hidden state from the lstm\n",
    "        r_out,hidden =self.lstm(x,hidden)\n",
    "        out = self.dropout(r_out)\n",
    "        # Stack up LSTM outputs using view\n",
    "        # you may need to use contiguous to reshape the output\n",
    "        out =out.contiguous().view(-1, self.n_hidden)\n",
    "        out = self.fc(out)\n",
    "        \n",
    "        # return the final output and the hidden state\n",
    "        return out, hidden\n",
    "    \n",
    "    \n",
    "    def init_hidden(self, batch_size):\n",
    "        ''' Initializes hidden state '''\n",
    "        # Create two new tensors with sizes n_layers x batch_size x n_hidden,\n",
    "        # initialized to zero, for hidden state and cell state of LSTM\n",
    "        weight = next(self.parameters()).data\n",
    "        \n",
    "        if (train_on_gpu):\n",
    "            hidden = (weight.new(self.n_layers, batch_size, self.n_hidden).zero_().cuda(),\n",
    "                  weight.new(self.n_layers, batch_size, self.n_hidden).zero_().cuda())\n",
    "        else:\n",
    "            hidden = (weight.new(self.n_layers, batch_size, self.n_hidden).zero_(),\n",
    "                      weight.new(self.n_layers, batch_size, self.n_hidden).zero_())\n",
    "        \n",
    "        return hidden\n",
    "        "
   ]
  },
  {
   "cell_type": "markdown",
   "metadata": {},
   "source": [
    "## Time to train\n",
    "\n",
    "The train function gives us the ability to set the number of epochs, the learning rate, and other parameters.\n",
    "\n",
    "Below we're using an Adam optimizer and cross entropy loss since we are looking at character class scores as output. We calculate the loss and perform backpropagation, as usual!\n",
    "\n",
    "A couple of details about training: \n",
    ">* Within the batch loop, we detach the hidden state from its history; this time setting it equal to a new *tuple* variable because an LSTM has a hidden state that is a tuple of the hidden and cell states.\n",
    "* We use [`clip_grad_norm_`](https://pytorch.org/docs/stable/_modules/torch/nn/utils/clip_grad.html) to help prevent exploding gradients."
   ]
  },
  {
   "cell_type": "code",
   "execution_count": 44,
   "metadata": {},
   "outputs": [],
   "source": [
    "def train(net, data, epochs=10, batch_size=10, seq_length=50, lr=0.001, clip=5, val_frac=0.1, print_every=10):\n",
    "    ''' Training a network \n",
    "    \n",
    "        Arguments\n",
    "        ---------\n",
    "        \n",
    "        net: CharRNN network\n",
    "        data: text data to train the network\n",
    "        epochs: Number of epochs to train\n",
    "        batch_size: Number of mini-sequences per mini-batch, aka batch size\n",
    "        seq_length: Number of character steps per mini-batch\n",
    "        lr: learning rate\n",
    "        clip: gradient clipping\n",
    "        val_frac: Fraction of data to hold out for validation\n",
    "        print_every: Number of steps for printing training and validation loss\n",
    "    \n",
    "    '''\n",
    "    net.train()\n",
    "    \n",
    "    opt = torch.optim.Adam(net.parameters(), lr=lr)\n",
    "    criterion = nn.CrossEntropyLoss()\n",
    "    \n",
    "    # create training and validation data\n",
    "    val_idx = int(len(data)*(1-val_frac))\n",
    "    data, val_data = data[:val_idx], data[val_idx:]\n",
    "    \n",
    "    if(train_on_gpu):\n",
    "        net.cuda()\n",
    "    \n",
    "    counter = 0\n",
    "    n_chars = len(net.chars)\n",
    "    for e in range(epochs):\n",
    "        # initialize hidden state\n",
    "        h = net.init_hidden(batch_size)\n",
    "        \n",
    "        for x, y in get_batches(data, batch_size, seq_length):\n",
    "            counter += 1\n",
    "            \n",
    "            # One-hot encode our data and make them Torch tensors\n",
    "            x = one_hot_encode(x, n_chars)\n",
    "            inputs, targets = torch.from_numpy(x), torch.from_numpy(y)\n",
    "            \n",
    "            if(train_on_gpu):\n",
    "                inputs, targets = inputs.cuda(), targets.cuda()\n",
    "\n",
    "            # Creating new variables for the hidden state, otherwise\n",
    "            # we'd backprop through the entire training history\n",
    "            h = tuple([each.data for each in h])\n",
    "\n",
    "            # zero accumulated gradients\n",
    "            net.zero_grad()\n",
    "            \n",
    "            # get the output from the model\n",
    "            output, h = net(inputs, h)\n",
    "            \n",
    "            # calculate the loss and perform backprop\n",
    "            loss = criterion(output, targets.view(batch_size*seq_length).long())\n",
    "            loss.backward()\n",
    "            # `clip_grad_norm` helps prevent the exploding gradient problem in RNNs / LSTMs.\n",
    "            nn.utils.clip_grad_norm_(net.parameters(), clip)\n",
    "            opt.step()\n",
    "            \n",
    "            # loss stats\n",
    "            if counter % print_every == 0:\n",
    "                # Get validation loss\n",
    "                val_h = net.init_hidden(batch_size)\n",
    "                val_losses = []\n",
    "                net.eval()\n",
    "                for x, y in get_batches(val_data, batch_size, seq_length):\n",
    "                    # One-hot encode our data and make them Torch tensors\n",
    "                    x = one_hot_encode(x, n_chars)\n",
    "                    x, y = torch.from_numpy(x), torch.from_numpy(y)\n",
    "                    \n",
    "                    # Creating new variables for the hidden state, otherwise\n",
    "                    # we'd backprop through the entire training history\n",
    "                    val_h = tuple([each.data for each in val_h])\n",
    "                    \n",
    "                    inputs, targets = x, y\n",
    "                    if(train_on_gpu):\n",
    "                        inputs, targets = inputs.cuda(), targets.cuda()\n",
    "\n",
    "                    output, val_h = net(inputs, val_h)\n",
    "                    val_loss = criterion(output, targets.view(batch_size*seq_length).long())\n",
    "                \n",
    "                    val_losses.append(val_loss.item())\n",
    "                \n",
    "                net.train() # reset to train mode after iterationg through validation data\n",
    "                \n",
    "                print(\"Epoch: {}/{}...\".format(e+1, epochs),\n",
    "                      \"Step: {}...\".format(counter),\n",
    "                      \"Loss: {:.4f}...\".format(loss.item()),\n",
    "                      \"Val Loss: {:.4f}\".format(np.mean(val_losses)))"
   ]
  },
  {
   "cell_type": "markdown",
   "metadata": {},
   "source": [
    "## Instantiating the model\n",
    "\n",
    "Now we can actually train the network. First we'll create the network itself, with some given hyperparameters. Then, define the mini-batches sizes, and start training!"
   ]
  },
  {
   "cell_type": "code",
   "execution_count": 45,
   "metadata": {},
   "outputs": [
    {
     "name": "stdout",
     "output_type": "stream",
     "text": [
      "CharRNN(\n",
      "  (lstm): LSTM(83, 512, num_layers=2, batch_first=True, dropout=0.5)\n",
      "  (dropout): Dropout(p=0.5, inplace=False)\n",
      "  (fc): Linear(in_features=512, out_features=83, bias=True)\n",
      ")\n"
     ]
    }
   ],
   "source": [
    "## TODO: set your model hyperparameters\n",
    "# define and print the net\n",
    "n_hidden=512\n",
    "n_layers=2\n",
    "\n",
    "net = CharRNN(chars, n_hidden, n_layers)\n",
    "print(net)"
   ]
  },
  {
   "cell_type": "markdown",
   "metadata": {},
   "source": [
    "### Set your training hyperparameters!"
   ]
  },
  {
   "cell_type": "code",
   "execution_count": 46,
   "metadata": {
    "scrolled": true
   },
   "outputs": [
    {
     "name": "stdout",
     "output_type": "stream",
     "text": [
      "Epoch: 1/20... Step: 10... Loss: 3.2640... Val Loss: 3.1995\n",
      "Epoch: 1/20... Step: 20... Loss: 3.1580... Val Loss: 3.1347\n",
      "Epoch: 1/20... Step: 30... Loss: 3.1441... Val Loss: 3.1234\n",
      "Epoch: 1/20... Step: 40... Loss: 3.1151... Val Loss: 3.1192\n",
      "Epoch: 1/20... Step: 50... Loss: 3.1442... Val Loss: 3.1178\n",
      "Epoch: 1/20... Step: 60... Loss: 3.1193... Val Loss: 3.1161\n",
      "Epoch: 1/20... Step: 70... Loss: 3.1099... Val Loss: 3.1146\n",
      "Epoch: 1/20... Step: 80... Loss: 3.1218... Val Loss: 3.1106\n",
      "Epoch: 1/20... Step: 90... Loss: 3.1167... Val Loss: 3.1011\n",
      "Epoch: 1/20... Step: 100... Loss: 3.0936... Val Loss: 3.0828\n",
      "Epoch: 1/20... Step: 110... Loss: 3.0401... Val Loss: 3.0200\n",
      "Epoch: 1/20... Step: 120... Loss: 2.9212... Val Loss: 2.9164\n",
      "Epoch: 1/20... Step: 130... Loss: 2.8591... Val Loss: 2.8163\n",
      "Epoch: 2/20... Step: 140... Loss: 2.7577... Val Loss: 2.7031\n",
      "Epoch: 2/20... Step: 150... Loss: 2.6421... Val Loss: 2.5891\n",
      "Epoch: 2/20... Step: 160... Loss: 2.5633... Val Loss: 2.5266\n",
      "Epoch: 2/20... Step: 170... Loss: 2.4845... Val Loss: 2.4737\n",
      "Epoch: 2/20... Step: 180... Loss: 2.4580... Val Loss: 2.4321\n",
      "Epoch: 2/20... Step: 190... Loss: 2.4059... Val Loss: 2.4047\n",
      "Epoch: 2/20... Step: 200... Loss: 2.4032... Val Loss: 2.3662\n",
      "Epoch: 2/20... Step: 210... Loss: 2.3655... Val Loss: 2.3402\n",
      "Epoch: 2/20... Step: 220... Loss: 2.3343... Val Loss: 2.3114\n",
      "Epoch: 2/20... Step: 230... Loss: 2.3184... Val Loss: 2.2825\n",
      "Epoch: 2/20... Step: 240... Loss: 2.2973... Val Loss: 2.2599\n",
      "Epoch: 2/20... Step: 250... Loss: 2.2345... Val Loss: 2.2340\n",
      "Epoch: 2/20... Step: 260... Loss: 2.1982... Val Loss: 2.2074\n",
      "Epoch: 2/20... Step: 270... Loss: 2.2145... Val Loss: 2.1829\n",
      "Epoch: 3/20... Step: 280... Loss: 2.2220... Val Loss: 2.1637\n",
      "Epoch: 3/20... Step: 290... Loss: 2.1807... Val Loss: 2.1400\n",
      "Epoch: 3/20... Step: 300... Loss: 2.1433... Val Loss: 2.1198\n",
      "Epoch: 3/20... Step: 310... Loss: 2.1292... Val Loss: 2.1001\n",
      "Epoch: 3/20... Step: 320... Loss: 2.0877... Val Loss: 2.0766\n",
      "Epoch: 3/20... Step: 330... Loss: 2.0692... Val Loss: 2.0618\n",
      "Epoch: 3/20... Step: 340... Loss: 2.0930... Val Loss: 2.0393\n",
      "Epoch: 3/20... Step: 350... Loss: 2.0750... Val Loss: 2.0234\n",
      "Epoch: 3/20... Step: 360... Loss: 1.9905... Val Loss: 2.0058\n",
      "Epoch: 3/20... Step: 370... Loss: 2.0097... Val Loss: 1.9862\n",
      "Epoch: 3/20... Step: 380... Loss: 2.0070... Val Loss: 1.9751\n",
      "Epoch: 3/20... Step: 390... Loss: 1.9746... Val Loss: 1.9588\n",
      "Epoch: 3/20... Step: 400... Loss: 1.9473... Val Loss: 1.9422\n",
      "Epoch: 3/20... Step: 410... Loss: 1.9573... Val Loss: 1.9302\n",
      "Epoch: 4/20... Step: 420... Loss: 1.9403... Val Loss: 1.9206\n",
      "Epoch: 4/20... Step: 430... Loss: 1.9401... Val Loss: 1.9001\n",
      "Epoch: 4/20... Step: 440... Loss: 1.9189... Val Loss: 1.8890\n",
      "Epoch: 4/20... Step: 450... Loss: 1.8547... Val Loss: 1.8768\n",
      "Epoch: 4/20... Step: 460... Loss: 1.8460... Val Loss: 1.8684\n",
      "Epoch: 4/20... Step: 470... Loss: 1.8813... Val Loss: 1.8584\n",
      "Epoch: 4/20... Step: 480... Loss: 1.8659... Val Loss: 1.8432\n",
      "Epoch: 4/20... Step: 490... Loss: 1.8683... Val Loss: 1.8330\n",
      "Epoch: 4/20... Step: 500... Loss: 1.8619... Val Loss: 1.8224\n",
      "Epoch: 4/20... Step: 510... Loss: 1.8345... Val Loss: 1.8100\n",
      "Epoch: 4/20... Step: 520... Loss: 1.8458... Val Loss: 1.7997\n",
      "Epoch: 4/20... Step: 530... Loss: 1.8039... Val Loss: 1.7899\n",
      "Epoch: 4/20... Step: 540... Loss: 1.7634... Val Loss: 1.7804\n",
      "Epoch: 4/20... Step: 550... Loss: 1.8161... Val Loss: 1.7698\n",
      "Epoch: 5/20... Step: 560... Loss: 1.7827... Val Loss: 1.7603\n",
      "Epoch: 5/20... Step: 570... Loss: 1.7691... Val Loss: 1.7503\n",
      "Epoch: 5/20... Step: 580... Loss: 1.7557... Val Loss: 1.7418\n",
      "Epoch: 5/20... Step: 590... Loss: 1.7521... Val Loss: 1.7361\n",
      "Epoch: 5/20... Step: 600... Loss: 1.7337... Val Loss: 1.7313\n",
      "Epoch: 5/20... Step: 610... Loss: 1.7244... Val Loss: 1.7219\n",
      "Epoch: 5/20... Step: 620... Loss: 1.7325... Val Loss: 1.7123\n",
      "Epoch: 5/20... Step: 630... Loss: 1.7385... Val Loss: 1.7053\n",
      "Epoch: 5/20... Step: 640... Loss: 1.7099... Val Loss: 1.6951\n",
      "Epoch: 5/20... Step: 650... Loss: 1.7078... Val Loss: 1.6887\n",
      "Epoch: 5/20... Step: 660... Loss: 1.6758... Val Loss: 1.6804\n",
      "Epoch: 5/20... Step: 670... Loss: 1.6987... Val Loss: 1.6749\n",
      "Epoch: 5/20... Step: 680... Loss: 1.6911... Val Loss: 1.6634\n",
      "Epoch: 5/20... Step: 690... Loss: 1.6694... Val Loss: 1.6611\n",
      "Epoch: 6/20... Step: 700... Loss: 1.6716... Val Loss: 1.6553\n",
      "Epoch: 6/20... Step: 710... Loss: 1.6537... Val Loss: 1.6518\n",
      "Epoch: 6/20... Step: 720... Loss: 1.6575... Val Loss: 1.6444\n",
      "Epoch: 6/20... Step: 730... Loss: 1.6679... Val Loss: 1.6353\n",
      "Epoch: 6/20... Step: 740... Loss: 1.6323... Val Loss: 1.6350\n",
      "Epoch: 6/20... Step: 750... Loss: 1.6160... Val Loss: 1.6287\n",
      "Epoch: 6/20... Step: 760... Loss: 1.6471... Val Loss: 1.6228\n",
      "Epoch: 6/20... Step: 770... Loss: 1.6354... Val Loss: 1.6221\n",
      "Epoch: 6/20... Step: 780... Loss: 1.6151... Val Loss: 1.6127\n",
      "Epoch: 6/20... Step: 790... Loss: 1.5967... Val Loss: 1.6062\n",
      "Epoch: 6/20... Step: 800... Loss: 1.6269... Val Loss: 1.6036\n",
      "Epoch: 6/20... Step: 810... Loss: 1.6108... Val Loss: 1.5982\n",
      "Epoch: 6/20... Step: 820... Loss: 1.5639... Val Loss: 1.5907\n",
      "Epoch: 6/20... Step: 830... Loss: 1.6167... Val Loss: 1.5851\n",
      "Epoch: 7/20... Step: 840... Loss: 1.5685... Val Loss: 1.5886\n",
      "Epoch: 7/20... Step: 850... Loss: 1.5869... Val Loss: 1.5788\n",
      "Epoch: 7/20... Step: 860... Loss: 1.5759... Val Loss: 1.5739\n",
      "Epoch: 7/20... Step: 870... Loss: 1.5801... Val Loss: 1.5670\n",
      "Epoch: 7/20... Step: 880... Loss: 1.5784... Val Loss: 1.5687\n",
      "Epoch: 7/20... Step: 890... Loss: 1.5677... Val Loss: 1.5620\n",
      "Epoch: 7/20... Step: 900... Loss: 1.5580... Val Loss: 1.5575\n",
      "Epoch: 7/20... Step: 910... Loss: 1.5226... Val Loss: 1.5519\n",
      "Epoch: 7/20... Step: 920... Loss: 1.5482... Val Loss: 1.5482\n",
      "Epoch: 7/20... Step: 930... Loss: 1.5375... Val Loss: 1.5435\n",
      "Epoch: 7/20... Step: 940... Loss: 1.5376... Val Loss: 1.5388\n",
      "Epoch: 7/20... Step: 950... Loss: 1.5478... Val Loss: 1.5365\n",
      "Epoch: 7/20... Step: 960... Loss: 1.5535... Val Loss: 1.5330\n",
      "Epoch: 7/20... Step: 970... Loss: 1.5555... Val Loss: 1.5286\n",
      "Epoch: 8/20... Step: 980... Loss: 1.5257... Val Loss: 1.5303\n",
      "Epoch: 8/20... Step: 990... Loss: 1.5281... Val Loss: 1.5261\n",
      "Epoch: 8/20... Step: 1000... Loss: 1.5125... Val Loss: 1.5213\n",
      "Epoch: 8/20... Step: 1010... Loss: 1.5534... Val Loss: 1.5151\n",
      "Epoch: 8/20... Step: 1020... Loss: 1.5263... Val Loss: 1.5160\n",
      "Epoch: 8/20... Step: 1030... Loss: 1.5048... Val Loss: 1.5101\n",
      "Epoch: 8/20... Step: 1040... Loss: 1.5167... Val Loss: 1.5090\n",
      "Epoch: 8/20... Step: 1050... Loss: 1.5006... Val Loss: 1.5038\n",
      "Epoch: 8/20... Step: 1060... Loss: 1.4993... Val Loss: 1.5014\n",
      "Epoch: 8/20... Step: 1070... Loss: 1.5096... Val Loss: 1.4977\n",
      "Epoch: 8/20... Step: 1080... Loss: 1.4942... Val Loss: 1.4955\n",
      "Epoch: 8/20... Step: 1090... Loss: 1.4892... Val Loss: 1.4902\n",
      "Epoch: 8/20... Step: 1100... Loss: 1.4735... Val Loss: 1.4858\n",
      "Epoch: 8/20... Step: 1110... Loss: 1.4903... Val Loss: 1.4857\n",
      "Epoch: 9/20... Step: 1120... Loss: 1.4954... Val Loss: 1.4897\n",
      "Epoch: 9/20... Step: 1130... Loss: 1.4880... Val Loss: 1.4834\n",
      "Epoch: 9/20... Step: 1140... Loss: 1.4972... Val Loss: 1.4798\n",
      "Epoch: 9/20... Step: 1150... Loss: 1.4971... Val Loss: 1.4767\n",
      "Epoch: 9/20... Step: 1160... Loss: 1.4528... Val Loss: 1.4758\n",
      "Epoch: 9/20... Step: 1170... Loss: 1.4693... Val Loss: 1.4717\n",
      "Epoch: 9/20... Step: 1180... Loss: 1.4551... Val Loss: 1.4679\n",
      "Epoch: 9/20... Step: 1190... Loss: 1.4962... Val Loss: 1.4659\n",
      "Epoch: 9/20... Step: 1200... Loss: 1.4362... Val Loss: 1.4622\n",
      "Epoch: 9/20... Step: 1210... Loss: 1.4560... Val Loss: 1.4638\n",
      "Epoch: 9/20... Step: 1220... Loss: 1.4543... Val Loss: 1.4590\n",
      "Epoch: 9/20... Step: 1230... Loss: 1.4308... Val Loss: 1.4550\n",
      "Epoch: 9/20... Step: 1240... Loss: 1.4435... Val Loss: 1.4542\n",
      "Epoch: 9/20... Step: 1250... Loss: 1.4516... Val Loss: 1.4506\n",
      "Epoch: 10/20... Step: 1260... Loss: 1.4452... Val Loss: 1.4518\n",
      "Epoch: 10/20... Step: 1270... Loss: 1.4485... Val Loss: 1.4499\n",
      "Epoch: 10/20... Step: 1280... Loss: 1.4568... Val Loss: 1.4454\n",
      "Epoch: 10/20... Step: 1290... Loss: 1.4466... Val Loss: 1.4474\n",
      "Epoch: 10/20... Step: 1300... Loss: 1.4347... Val Loss: 1.4453\n",
      "Epoch: 10/20... Step: 1310... Loss: 1.4459... Val Loss: 1.4400\n",
      "Epoch: 10/20... Step: 1320... Loss: 1.4101... Val Loss: 1.4377\n",
      "Epoch: 10/20... Step: 1330... Loss: 1.4161... Val Loss: 1.4360\n",
      "Epoch: 10/20... Step: 1340... Loss: 1.4001... Val Loss: 1.4316\n"
     ]
    },
    {
     "name": "stdout",
     "output_type": "stream",
     "text": [
      "Epoch: 10/20... Step: 1350... Loss: 1.3934... Val Loss: 1.4304\n",
      "Epoch: 10/20... Step: 1360... Loss: 1.4033... Val Loss: 1.4295\n",
      "Epoch: 10/20... Step: 1370... Loss: 1.3942... Val Loss: 1.4269\n",
      "Epoch: 10/20... Step: 1380... Loss: 1.4390... Val Loss: 1.4256\n",
      "Epoch: 10/20... Step: 1390... Loss: 1.4382... Val Loss: 1.4229\n",
      "Epoch: 11/20... Step: 1400... Loss: 1.4389... Val Loss: 1.4268\n",
      "Epoch: 11/20... Step: 1410... Loss: 1.4512... Val Loss: 1.4237\n",
      "Epoch: 11/20... Step: 1420... Loss: 1.4335... Val Loss: 1.4191\n",
      "Epoch: 11/20... Step: 1430... Loss: 1.4021... Val Loss: 1.4211\n",
      "Epoch: 11/20... Step: 1440... Loss: 1.4265... Val Loss: 1.4146\n",
      "Epoch: 11/20... Step: 1450... Loss: 1.3567... Val Loss: 1.4101\n",
      "Epoch: 11/20... Step: 1460... Loss: 1.3851... Val Loss: 1.4080\n",
      "Epoch: 11/20... Step: 1470... Loss: 1.3752... Val Loss: 1.4103\n",
      "Epoch: 11/20... Step: 1480... Loss: 1.4034... Val Loss: 1.4016\n",
      "Epoch: 11/20... Step: 1490... Loss: 1.3835... Val Loss: 1.4047\n",
      "Epoch: 11/20... Step: 1500... Loss: 1.3660... Val Loss: 1.4027\n",
      "Epoch: 11/20... Step: 1510... Loss: 1.3646... Val Loss: 1.3990\n",
      "Epoch: 11/20... Step: 1520... Loss: 1.4016... Val Loss: 1.3997\n",
      "Epoch: 12/20... Step: 1530... Loss: 1.4444... Val Loss: 1.4006\n",
      "Epoch: 12/20... Step: 1540... Loss: 1.4070... Val Loss: 1.4000\n",
      "Epoch: 12/20... Step: 1550... Loss: 1.4084... Val Loss: 1.3968\n",
      "Epoch: 12/20... Step: 1560... Loss: 1.4127... Val Loss: 1.3924\n",
      "Epoch: 12/20... Step: 1570... Loss: 1.3619... Val Loss: 1.3950\n",
      "Epoch: 12/20... Step: 1580... Loss: 1.3424... Val Loss: 1.3913\n",
      "Epoch: 12/20... Step: 1590... Loss: 1.3385... Val Loss: 1.3936\n",
      "Epoch: 12/20... Step: 1600... Loss: 1.3604... Val Loss: 1.3906\n",
      "Epoch: 12/20... Step: 1610... Loss: 1.3583... Val Loss: 1.3963\n",
      "Epoch: 12/20... Step: 1620... Loss: 1.3544... Val Loss: 1.3861\n",
      "Epoch: 12/20... Step: 1630... Loss: 1.3808... Val Loss: 1.3863\n",
      "Epoch: 12/20... Step: 1640... Loss: 1.3511... Val Loss: 1.3827\n",
      "Epoch: 12/20... Step: 1650... Loss: 1.3322... Val Loss: 1.3830\n",
      "Epoch: 12/20... Step: 1660... Loss: 1.3805... Val Loss: 1.3809\n",
      "Epoch: 13/20... Step: 1670... Loss: 1.3583... Val Loss: 1.3828\n",
      "Epoch: 13/20... Step: 1680... Loss: 1.3650... Val Loss: 1.3833\n",
      "Epoch: 13/20... Step: 1690... Loss: 1.3475... Val Loss: 1.3823\n",
      "Epoch: 13/20... Step: 1700... Loss: 1.3428... Val Loss: 1.3780\n",
      "Epoch: 13/20... Step: 1710... Loss: 1.3214... Val Loss: 1.3788\n",
      "Epoch: 13/20... Step: 1720... Loss: 1.3382... Val Loss: 1.3752\n",
      "Epoch: 13/20... Step: 1730... Loss: 1.3761... Val Loss: 1.3774\n",
      "Epoch: 13/20... Step: 1740... Loss: 1.3424... Val Loss: 1.3721\n",
      "Epoch: 13/20... Step: 1750... Loss: 1.3071... Val Loss: 1.3783\n",
      "Epoch: 13/20... Step: 1760... Loss: 1.3355... Val Loss: 1.3738\n",
      "Epoch: 13/20... Step: 1770... Loss: 1.3539... Val Loss: 1.3636\n",
      "Epoch: 13/20... Step: 1780... Loss: 1.3281... Val Loss: 1.3615\n",
      "Epoch: 13/20... Step: 1790... Loss: 1.3227... Val Loss: 1.3662\n",
      "Epoch: 13/20... Step: 1800... Loss: 1.3460... Val Loss: 1.3649\n",
      "Epoch: 14/20... Step: 1810... Loss: 1.3428... Val Loss: 1.3688\n",
      "Epoch: 14/20... Step: 1820... Loss: 1.3361... Val Loss: 1.3654\n",
      "Epoch: 14/20... Step: 1830... Loss: 1.3435... Val Loss: 1.3634\n",
      "Epoch: 14/20... Step: 1840... Loss: 1.2973... Val Loss: 1.3622\n",
      "Epoch: 14/20... Step: 1850... Loss: 1.2790... Val Loss: 1.3605\n",
      "Epoch: 14/20... Step: 1860... Loss: 1.3404... Val Loss: 1.3618\n",
      "Epoch: 14/20... Step: 1870... Loss: 1.3424... Val Loss: 1.3614\n",
      "Epoch: 14/20... Step: 1880... Loss: 1.3328... Val Loss: 1.3635\n",
      "Epoch: 14/20... Step: 1890... Loss: 1.3394... Val Loss: 1.3625\n",
      "Epoch: 14/20... Step: 1900... Loss: 1.3184... Val Loss: 1.3600\n",
      "Epoch: 14/20... Step: 1910... Loss: 1.3245... Val Loss: 1.3507\n",
      "Epoch: 14/20... Step: 1920... Loss: 1.3217... Val Loss: 1.3546\n",
      "Epoch: 14/20... Step: 1930... Loss: 1.2897... Val Loss: 1.3519\n",
      "Epoch: 14/20... Step: 1940... Loss: 1.3502... Val Loss: 1.3495\n",
      "Epoch: 15/20... Step: 1950... Loss: 1.3106... Val Loss: 1.3505\n",
      "Epoch: 15/20... Step: 1960... Loss: 1.3144... Val Loss: 1.3530\n",
      "Epoch: 15/20... Step: 1970... Loss: 1.3091... Val Loss: 1.3486\n",
      "Epoch: 15/20... Step: 1980... Loss: 1.3008... Val Loss: 1.3533\n",
      "Epoch: 15/20... Step: 1990... Loss: 1.2943... Val Loss: 1.3419\n",
      "Epoch: 15/20... Step: 2000... Loss: 1.2795... Val Loss: 1.3464\n",
      "Epoch: 15/20... Step: 2010... Loss: 1.3070... Val Loss: 1.3377\n",
      "Epoch: 15/20... Step: 2020... Loss: 1.3194... Val Loss: 1.3492\n",
      "Epoch: 15/20... Step: 2030... Loss: 1.2877... Val Loss: 1.3464\n",
      "Epoch: 15/20... Step: 2040... Loss: 1.3115... Val Loss: 1.3391\n",
      "Epoch: 15/20... Step: 2050... Loss: 1.2913... Val Loss: 1.3410\n",
      "Epoch: 15/20... Step: 2060... Loss: 1.2931... Val Loss: 1.3447\n",
      "Epoch: 15/20... Step: 2070... Loss: 1.3121... Val Loss: 1.3352\n",
      "Epoch: 15/20... Step: 2080... Loss: 1.3042... Val Loss: 1.3436\n",
      "Epoch: 16/20... Step: 2090... Loss: 1.3072... Val Loss: 1.3398\n",
      "Epoch: 16/20... Step: 2100... Loss: 1.2984... Val Loss: 1.3380\n",
      "Epoch: 16/20... Step: 2110... Loss: 1.2798... Val Loss: 1.3374\n",
      "Epoch: 16/20... Step: 2120... Loss: 1.3055... Val Loss: 1.3366\n",
      "Epoch: 16/20... Step: 2130... Loss: 1.2628... Val Loss: 1.3369\n",
      "Epoch: 16/20... Step: 2140... Loss: 1.2751... Val Loss: 1.3369\n",
      "Epoch: 16/20... Step: 2150... Loss: 1.3100... Val Loss: 1.3325\n",
      "Epoch: 16/20... Step: 2160... Loss: 1.2852... Val Loss: 1.3392\n",
      "Epoch: 16/20... Step: 2170... Loss: 1.2845... Val Loss: 1.3377\n",
      "Epoch: 16/20... Step: 2180... Loss: 1.2857... Val Loss: 1.3329\n",
      "Epoch: 16/20... Step: 2190... Loss: 1.3009... Val Loss: 1.3358\n",
      "Epoch: 16/20... Step: 2200... Loss: 1.2680... Val Loss: 1.3312\n",
      "Epoch: 16/20... Step: 2210... Loss: 1.2342... Val Loss: 1.3204\n",
      "Epoch: 16/20... Step: 2220... Loss: 1.2862... Val Loss: 1.3322\n",
      "Epoch: 17/20... Step: 2230... Loss: 1.2674... Val Loss: 1.3301\n",
      "Epoch: 17/20... Step: 2240... Loss: 1.2761... Val Loss: 1.3331\n",
      "Epoch: 17/20... Step: 2250... Loss: 1.2545... Val Loss: 1.3274\n",
      "Epoch: 17/20... Step: 2260... Loss: 1.2696... Val Loss: 1.3288\n",
      "Epoch: 17/20... Step: 2270... Loss: 1.2884... Val Loss: 1.3288\n",
      "Epoch: 17/20... Step: 2280... Loss: 1.2863... Val Loss: 1.3261\n",
      "Epoch: 17/20... Step: 2290... Loss: 1.2756... Val Loss: 1.3260\n",
      "Epoch: 17/20... Step: 2300... Loss: 1.2447... Val Loss: 1.3302\n",
      "Epoch: 17/20... Step: 2310... Loss: 1.2687... Val Loss: 1.3256\n",
      "Epoch: 17/20... Step: 2320... Loss: 1.2600... Val Loss: 1.3197\n",
      "Epoch: 17/20... Step: 2330... Loss: 1.2648... Val Loss: 1.3244\n",
      "Epoch: 17/20... Step: 2340... Loss: 1.2666... Val Loss: 1.3206\n",
      "Epoch: 17/20... Step: 2350... Loss: 1.2744... Val Loss: 1.3162\n",
      "Epoch: 17/20... Step: 2360... Loss: 1.2930... Val Loss: 1.3222\n",
      "Epoch: 18/20... Step: 2370... Loss: 1.2512... Val Loss: 1.3254\n",
      "Epoch: 18/20... Step: 2380... Loss: 1.2581... Val Loss: 1.3245\n",
      "Epoch: 18/20... Step: 2390... Loss: 1.2633... Val Loss: 1.3173\n",
      "Epoch: 18/20... Step: 2400... Loss: 1.2823... Val Loss: 1.3210\n",
      "Epoch: 18/20... Step: 2410... Loss: 1.2744... Val Loss: 1.3210\n",
      "Epoch: 18/20... Step: 2420... Loss: 1.2534... Val Loss: 1.3146\n",
      "Epoch: 18/20... Step: 2430... Loss: 1.2781... Val Loss: 1.3157\n",
      "Epoch: 18/20... Step: 2440... Loss: 1.2547... Val Loss: 1.3178\n",
      "Epoch: 18/20... Step: 2450... Loss: 1.2460... Val Loss: 1.3150\n",
      "Epoch: 18/20... Step: 2460... Loss: 1.2676... Val Loss: 1.3190\n",
      "Epoch: 18/20... Step: 2470... Loss: 1.2587... Val Loss: 1.3143\n",
      "Epoch: 18/20... Step: 2480... Loss: 1.2408... Val Loss: 1.3073\n",
      "Epoch: 18/20... Step: 2490... Loss: 1.2406... Val Loss: 1.3081\n",
      "Epoch: 18/20... Step: 2500... Loss: 1.2486... Val Loss: 1.3097\n",
      "Epoch: 19/20... Step: 2510... Loss: 1.2522... Val Loss: 1.3109\n",
      "Epoch: 19/20... Step: 2520... Loss: 1.2645... Val Loss: 1.3129\n",
      "Epoch: 19/20... Step: 2530... Loss: 1.2696... Val Loss: 1.3078\n",
      "Epoch: 19/20... Step: 2540... Loss: 1.2832... Val Loss: 1.3113\n",
      "Epoch: 19/20... Step: 2550... Loss: 1.2352... Val Loss: 1.3145\n",
      "Epoch: 19/20... Step: 2560... Loss: 1.2532... Val Loss: 1.3084\n",
      "Epoch: 19/20... Step: 2570... Loss: 1.2440... Val Loss: 1.3105\n",
      "Epoch: 19/20... Step: 2580... Loss: 1.2803... Val Loss: 1.3114\n",
      "Epoch: 19/20... Step: 2590... Loss: 1.2353... Val Loss: 1.3005\n",
      "Epoch: 19/20... Step: 2600... Loss: 1.2424... Val Loss: 1.3059\n",
      "Epoch: 19/20... Step: 2610... Loss: 1.2540... Val Loss: 1.3122\n",
      "Epoch: 19/20... Step: 2620... Loss: 1.2196... Val Loss: 1.3039\n",
      "Epoch: 19/20... Step: 2630... Loss: 1.2389... Val Loss: 1.3017\n",
      "Epoch: 19/20... Step: 2640... Loss: 1.2517... Val Loss: 1.3053\n",
      "Epoch: 20/20... Step: 2650... Loss: 1.2470... Val Loss: 1.3021\n"
     ]
    },
    {
     "name": "stdout",
     "output_type": "stream",
     "text": [
      "Epoch: 20/20... Step: 2660... Loss: 1.2506... Val Loss: 1.3031\n",
      "Epoch: 20/20... Step: 2670... Loss: 1.2594... Val Loss: 1.2994\n",
      "Epoch: 20/20... Step: 2680... Loss: 1.2494... Val Loss: 1.3049\n",
      "Epoch: 20/20... Step: 2690... Loss: 1.2392... Val Loss: 1.3025\n",
      "Epoch: 20/20... Step: 2700... Loss: 1.2483... Val Loss: 1.3030\n",
      "Epoch: 20/20... Step: 2710... Loss: 1.2198... Val Loss: 1.3012\n",
      "Epoch: 20/20... Step: 2720... Loss: 1.2224... Val Loss: 1.3015\n",
      "Epoch: 20/20... Step: 2730... Loss: 1.2103... Val Loss: 1.3030\n",
      "Epoch: 20/20... Step: 2740... Loss: 1.2099... Val Loss: 1.3036\n",
      "Epoch: 20/20... Step: 2750... Loss: 1.2215... Val Loss: 1.3026\n",
      "Epoch: 20/20... Step: 2760... Loss: 1.2118... Val Loss: 1.2973\n",
      "Epoch: 20/20... Step: 2770... Loss: 1.2541... Val Loss: 1.2950\n",
      "Epoch: 20/20... Step: 2780... Loss: 1.2732... Val Loss: 1.2921\n"
     ]
    }
   ],
   "source": [
    "batch_size = 128\n",
    "seq_length = 100\n",
    "n_epochs =20  # start small if you are just testing initial behavior\n",
    "\n",
    "# train the model\n",
    "train(net, encoded, epochs=n_epochs, batch_size=batch_size, seq_length=seq_length, lr=0.001, print_every=10)"
   ]
  },
  {
   "cell_type": "markdown",
   "metadata": {},
   "source": [
    "## Getting the best model\n",
    "\n",
    "To set your hyperparameters to get the best performance, you'll want to watch the training and validation losses. If your training loss is much lower than the validation loss, you're overfitting. Increase regularization (more dropout) or use a smaller network. If the training and validation losses are close, you're underfitting so you can increase the size of the network."
   ]
  },
  {
   "cell_type": "markdown",
   "metadata": {},
   "source": [
    "## Hyperparameters\n",
    "\n",
    "Here are the hyperparameters for the network.\n",
    "\n",
    "In defining the model:\n",
    "* `n_hidden` - The number of units in the hidden layers.\n",
    "* `n_layers` - Number of hidden LSTM layers to use.\n",
    "\n",
    "We assume that dropout probability and learning rate will be kept at the default, in this example.\n",
    "\n",
    "And in training:\n",
    "* `batch_size` - Number of sequences running through the network in one pass.\n",
    "* `seq_length` - Number of characters in the sequence the network is trained on. Larger is better typically, the network will learn more long range dependencies. But it takes longer to train. 100 is typically a good number here.\n",
    "* `lr` - Learning rate for training\n",
    "\n",
    "Here's some good advice from Andrej Karpathy on training the network. I'm going to copy it in here for your benefit, but also link to [where it originally came from](https://github.com/karpathy/char-rnn#tips-and-tricks).\n",
    "\n",
    "> ## Tips and Tricks\n",
    "\n",
    ">### Monitoring Validation Loss vs. Training Loss\n",
    ">If you're somewhat new to Machine Learning or Neural Networks it can take a bit of expertise to get good models. The most important quantity to keep track of is the difference between your training loss (printed during training) and the validation loss (printed once in a while when the RNN is run on the validation data (by default every 1000 iterations)). In particular:\n",
    "\n",
    "> - If your training loss is much lower than validation loss then this means the network might be **overfitting**. Solutions to this are to decrease your network size, or to increase dropout. For example you could try dropout of 0.5 and so on.\n",
    "> - If your training/validation loss are about equal then your model is **underfitting**. Increase the size of your model (either number of layers or the raw number of neurons per layer)\n",
    "\n",
    "> ### Approximate number of parameters\n",
    "\n",
    "> The two most important parameters that control the model are `n_hidden` and `n_layers`. I would advise that you always use `n_layers` of either 2/3. The `n_hidden` can be adjusted based on how much data you have. The two important quantities to keep track of here are:\n",
    "\n",
    "> - The number of parameters in your model. This is printed when you start training.\n",
    "> - The size of your dataset. 1MB file is approximately 1 million characters.\n",
    "\n",
    ">These two should be about the same order of magnitude. It's a little tricky to tell. Here are some examples:\n",
    "\n",
    "> - I have a 100MB dataset and I'm using the default parameter settings (which currently print 150K parameters). My data size is significantly larger (100 mil >> 0.15 mil), so I expect to heavily underfit. I am thinking I can comfortably afford to make `n_hidden` larger.\n",
    "> - I have a 10MB dataset and running a 10 million parameter model. I'm slightly nervous and I'm carefully monitoring my validation loss. If it's larger than my training loss then I may want to try to increase dropout a bit and see if that helps the validation loss.\n",
    "\n",
    "> ### Best models strategy\n",
    "\n",
    ">The winning strategy to obtaining very good models (if you have the compute time) is to always err on making the network larger (as large as you're willing to wait for it to compute) and then try different dropout values (between 0,1). Whatever model has the best validation performance (the loss, written in the checkpoint filename, low is good) is the one you should use in the end.\n",
    "\n",
    ">It is very common in deep learning to run many different models with many different hyperparameter settings, and in the end take whatever checkpoint gave the best validation performance.\n",
    "\n",
    ">By the way, the size of your training and validation splits are also parameters. Make sure you have a decent amount of data in your validation set or otherwise the validation performance will be noisy and not very informative."
   ]
  },
  {
   "cell_type": "markdown",
   "metadata": {},
   "source": [
    "## Checkpoint\n",
    "\n",
    "After training, we'll save the model so we can load it again later if we need too. Here I'm saving the parameters needed to create the same architecture, the hidden layer hyperparameters and the text characters."
   ]
  },
  {
   "cell_type": "code",
   "execution_count": 47,
   "metadata": {},
   "outputs": [],
   "source": [
    "# change the name, for saving multiple files\n",
    "model_name = 'rnn_x_epoch.net'\n",
    "\n",
    "checkpoint = {'n_hidden': net.n_hidden,\n",
    "              'n_layers': net.n_layers,\n",
    "              'state_dict': net.state_dict(),\n",
    "              'tokens': net.chars}\n",
    "\n",
    "with open(model_name, 'wb') as f:\n",
    "    torch.save(checkpoint, f)"
   ]
  },
  {
   "cell_type": "markdown",
   "metadata": {},
   "source": [
    "---\n",
    "## Making Predictions\n",
    "\n",
    "Now that the model is trained, we'll want to sample from it and make predictions about next characters! To sample, we pass in a character and have the network predict the next character. Then we take that character, pass it back in, and get another predicted character. Just keep doing this and you'll generate a bunch of text!\n",
    "\n",
    "### A note on the `predict`  function\n",
    "\n",
    "The output of our RNN is from a fully-connected layer and it outputs a **distribution of next-character scores**.\n",
    "\n",
    "> To actually get the next character, we apply a softmax function, which gives us a *probability* distribution that we can then sample to predict the next character.\n",
    "\n",
    "### Top K sampling\n",
    "\n",
    "Our predictions come from a categorical probability distribution over all the possible characters. We can make the sample text and make it more reasonable to handle (with less variables) by only considering some $K$ most probable characters. This will prevent the network from giving us completely absurd characters while allowing it to introduce some noise and randomness into the sampled text. Read more about [topk, here](https://pytorch.org/docs/stable/torch.html#torch.topk).\n"
   ]
  },
  {
   "cell_type": "code",
   "execution_count": 48,
   "metadata": {},
   "outputs": [],
   "source": [
    "def predict(net, char, h=None, top_k=None):\n",
    "        ''' Given a character, predict the next character.\n",
    "            Returns the predicted character and the hidden state.\n",
    "        '''\n",
    "        \n",
    "        # tensor inputs\n",
    "        x = np.array([[net.char2int[char]]])\n",
    "        x = one_hot_encode(x, len(net.chars))\n",
    "        inputs = torch.from_numpy(x)\n",
    "        \n",
    "        if(train_on_gpu):\n",
    "            inputs = inputs.cuda()\n",
    "        \n",
    "        # detach hidden state from history\n",
    "        h = tuple([each.data for each in h])\n",
    "        # get the output of the model\n",
    "        out, h = net(inputs, h)\n",
    "\n",
    "        # get the character probabilities\n",
    "        p = F.softmax(out, dim=1).data\n",
    "        if(train_on_gpu):\n",
    "            p = p.cpu() # move to cpu\n",
    "        \n",
    "        # get top characters\n",
    "        if top_k is None:\n",
    "            top_ch = np.arange(len(net.chars))\n",
    "        else:\n",
    "            p, top_ch = p.topk(top_k)\n",
    "            top_ch = top_ch.numpy().squeeze()\n",
    "        \n",
    "        # select the likely next character with some element of randomness\n",
    "        p = p.numpy().squeeze()\n",
    "        char = np.random.choice(top_ch, p=p/p.sum())\n",
    "        \n",
    "        # return the encoded value of the predicted char and the hidden state\n",
    "        return net.int2char[char], h"
   ]
  },
  {
   "cell_type": "markdown",
   "metadata": {},
   "source": [
    "### Priming and generating text \n",
    "\n",
    "Typically you'll want to prime the network so you can build up a hidden state. Otherwise the network will start out generating characters at random. In general the first bunch of characters will be a little rough since it hasn't built up a long history of characters to predict from."
   ]
  },
  {
   "cell_type": "code",
   "execution_count": 49,
   "metadata": {},
   "outputs": [],
   "source": [
    "def sample(net, size, prime='The', top_k=None):\n",
    "        \n",
    "    if(train_on_gpu):\n",
    "        net.cuda()\n",
    "    else:\n",
    "        net.cpu()\n",
    "    \n",
    "    net.eval() # eval mode\n",
    "    \n",
    "    # First off, run through the prime characters\n",
    "    chars = [ch for ch in prime]\n",
    "    h = net.init_hidden(1)\n",
    "    for ch in prime:\n",
    "        char, h = predict(net, ch, h, top_k=top_k)\n",
    "\n",
    "    chars.append(char)\n",
    "    \n",
    "    # Now pass in the previous character and get a new one\n",
    "    for ii in range(size):\n",
    "        char, h = predict(net, chars[-1], h, top_k=top_k)\n",
    "        chars.append(char)\n",
    "\n",
    "    return ''.join(chars)"
   ]
  },
  {
   "cell_type": "code",
   "execution_count": 50,
   "metadata": {},
   "outputs": [
    {
     "name": "stdout",
     "output_type": "stream",
     "text": [
      "Anna, with which they had becume\n",
      "transformed her indeed.\n",
      "\n",
      "All at once had so sportsing that this was a creature, and was stepping for him, that he\n",
      "went about them.\n",
      "\n",
      "The prayer talked on the father.\n",
      "\n",
      "\"I have stood a last man, to be a latter on, between a chamaly, and I can't go away; but I can't\n",
      "come and want to be such singing you and I don't see your patting, though I won't be able to say\n",
      "in your son to her.\"\n",
      "\n",
      "\"Well, the pealats is not sitting.\"\n",
      "\n",
      "Alexey Alexandrovitch was to see his beat to the son which\n",
      "alone,\n",
      "they were searly and story out of her. He was a pleasure were not. They saw that there's no seeming, and she did not hear the\n",
      "starrstant, that he was serious and hold them too, and the\n",
      "fashioned seciness as it were,\n",
      "her soul, they were done, to be answered. He would not let his carriage with a secoll, while he was still fancied in the\n",
      "second torture, he standed a carriage.\n",
      "\n",
      "\"I was to make you. How is he must be as it\n",
      "are at the same interest as there, and the\n",
      "sight of the clerk\n",
      "was \n"
     ]
    }
   ],
   "source": [
    "print(sample(net, 1000, prime='Anna', top_k=5))"
   ]
  },
  {
   "cell_type": "markdown",
   "metadata": {},
   "source": [
    "## Loading a checkpoint"
   ]
  },
  {
   "cell_type": "code",
   "execution_count": 51,
   "metadata": {},
   "outputs": [
    {
     "data": {
      "text/plain": [
       "<All keys matched successfully>"
      ]
     },
     "execution_count": 51,
     "metadata": {},
     "output_type": "execute_result"
    }
   ],
   "source": [
    "# Here we have loaded in a model that trained over 20 epochs `rnn_20_epoch.net`\n",
    "with open('rnn_x_epoch.net', 'rb') as f:\n",
    "    checkpoint = torch.load(f)\n",
    "    \n",
    "loaded = CharRNN(checkpoint['tokens'], n_hidden=checkpoint['n_hidden'], n_layers=checkpoint['n_layers'])\n",
    "loaded.load_state_dict(checkpoint['state_dict'])"
   ]
  },
  {
   "cell_type": "code",
   "execution_count": 52,
   "metadata": {},
   "outputs": [
    {
     "name": "stdout",
     "output_type": "stream",
     "text": [
      "And Levin said a ban smile on his wife and\n",
      "smiled.\n",
      "\n",
      "The choom was not to go into the poor, the\n",
      "same with\n",
      "acquaintances, and standing with the mare family; where the meaning of the sound\n",
      "of the mother and wathrows was it is to think it was not something at the servants\n",
      "of her table, as in hands to the man had tea her there was a moment to be so much.\"\n",
      "\n",
      "\"What is it that? Why do you tell you that the\n",
      "party with a boxest passion of at one only a spotition of the son when you are\n",
      "that tome wouldn't be too, but is in spoke of the first, as that will think at\n",
      "the mose of the part of\n",
      "them all the position, but I could have stopped them to the same times. There were nothing this for a peasant's from the carriage is the\n",
      "posities from the same man and his heart and misery. They has the comment wastes as\n",
      "though it is to be so suffering, to do.\" And the fine\n",
      "hund a minute there was nothing\n",
      "would be at hellet, and sat down the carriage. He was thinking, and\n",
      "there,\n",
      "and what in the same\n",
      "since\n",
      "this, was stroking with\n",
      "the\n",
      "mearing.\n",
      "\n",
      "\"Well, and how she\n",
      "has\n",
      "seen her. I'm not since that he's an and make of horror, and,\n",
      "well, then the cappet the land with your closer face. In secrets that has no such sort.\"\n",
      "\n",
      "\"Not. I am all so that I said that they shall go something or\n",
      "throw.\"\n",
      " \"Well, his wife, I have not to go to take a man\n",
      "charming to him...\"\n",
      "\n",
      "\"Well, and you say though it's simply to them and the\n",
      "convession wis me and he did not know, I stupid,\" she said, taking the cappoint of a\n",
      "tree of collor, and her hingraider, and the place arouted her to step at the second, which had been his hands, and the footman could hear the sense of the sound of a soft of almorn, the creater had been too, they\n",
      "cangot--to take\n",
      "simplice of\n",
      "their percalion. She wrote the portraits the\n",
      "promosed contrast, and the more since was so as at the came to him with his children who would attempt in sochet, the persons which, as the praying people. Breaking with all his conscuins of the children, but as though simply satisfied with her\n",
      "\n"
     ]
    }
   ],
   "source": [
    "# Sample using a loaded model\n",
    "print(sample(loaded, 2000, top_k=5, prime=\"And Levin said\"))"
   ]
  },
  {
   "cell_type": "code",
   "execution_count": 56,
   "metadata": {},
   "outputs": [
    {
     "name": "stdout",
     "output_type": "stream",
     "text": [
      "something bad happened for the princess.\n",
      "\n",
      "\"Yes, it is, then,\" said Varenka,\n",
      "and she settled her humble with him of singers; and she was\n",
      "not the marshal of such a presence of his way with a carriage story and\n",
      "considering a s\n"
     ]
    }
   ],
   "source": [
    "print(sample(loaded, 200, top_k=5, prime=\"something bad happened\"))"
   ]
  },
  {
   "cell_type": "code",
   "execution_count": null,
   "metadata": {},
   "outputs": [],
   "source": []
  }
 ],
 "metadata": {
  "kernelspec": {
   "display_name": "Python 3",
   "language": "python",
   "name": "python3"
  },
  "language_info": {
   "codemirror_mode": {
    "name": "ipython",
    "version": 3
   },
   "file_extension": ".py",
   "mimetype": "text/x-python",
   "name": "python",
   "nbconvert_exporter": "python",
   "pygments_lexer": "ipython3",
   "version": "3.8.5"
  }
 },
 "nbformat": 4,
 "nbformat_minor": 2
}
