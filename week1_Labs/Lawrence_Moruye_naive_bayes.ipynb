{
  "nbformat": 4,
  "nbformat_minor": 0,
  "metadata": {
    "kernelspec": {
      "display_name": "Python 3",
      "language": "python",
      "name": "python3"
    },
    "language_info": {
      "codemirror_mode": {
        "name": "ipython",
        "version": 3
      },
      "file_extension": ".py",
      "mimetype": "text/x-python",
      "name": "python",
      "nbconvert_exporter": "python",
      "pygments_lexer": "ipython3",
      "version": "3.6.2+"
    },
    "colab": {
      "name": "Lawrence_Moruye_naive_bayes.ipynb",
      "provenance": []
    }
  },
  "cells": [
    {
      "cell_type": "markdown",
      "metadata": {
        "id": "uQofPTxooccy"
      },
      "source": [
        "The goal of this lab is to implement a language identifier (LID).\n",
        "\n",
        "Our first model will be based on Naive Bayes."
      ]
    },
    {
      "cell_type": "code",
      "metadata": {
        "colab": {
          "base_uri": "https://localhost:8080/"
        },
        "id": "tBLjxZ08popr",
        "outputId": "c0490317-0196-455a-b853-ed56e78a71cb"
      },
      "source": [
        "from google.colab import drive\n",
        "drive.mount(\"/content/drive\")"
      ],
      "execution_count": null,
      "outputs": [
        {
          "output_type": "stream",
          "text": [
            "Mounted at /content/drive\n"
          ],
          "name": "stdout"
        }
      ]
    },
    {
      "cell_type": "code",
      "metadata": {
        "id": "0kCGyOKaocc4"
      },
      "source": [
        "import io, sys, math, re\n",
        "from collections import defaultdict"
      ],
      "execution_count": null,
      "outputs": []
    },
    {
      "cell_type": "markdown",
      "metadata": {
        "id": "-LVyeWFqocc5"
      },
      "source": [
        "**The** next function is used to load the data. Each line of the data consist of a label (corresponding to a language), followed by some text, written in that language. Here is an example of data:\n",
        "\n",
        "```__label__de Zur Namensdeutung gibt es mehrere Varianten.```\n"
      ]
    },
    {
      "cell_type": "code",
      "metadata": {
        "id": "BkHX1L8uocc5"
      },
      "source": [
        "def load_data(filename):\n",
        "    fin = io.open(filename, 'r', encoding='utf-8')\n",
        "    data = []\n",
        "    for line in fin:\n",
        "        tokens = line.split()\n",
        "        data.append((tokens[0], tokens[1:]))\n",
        "    return data"
      ],
      "execution_count": null,
      "outputs": []
    },
    {
      "cell_type": "markdown",
      "metadata": {
        "id": "PK7Kg6m6occ6"
      },
      "source": [
        "You can now try loading the first dataset `train1.txt` and look what examples look like."
      ]
    },
    {
      "cell_type": "code",
      "metadata": {
        "id": "LX5vDba0occ6",
        "colab": {
          "base_uri": "https://localhost:8080/"
        },
        "outputId": "0c9c74c4-9bb1-4bb4-892a-d4b046afc42f"
      },
      "source": [
        "data = load_data(\"/content/drive/MyDrive/NLPWEEK1/train1.txt\")\n",
        "print(data[0])"
      ],
      "execution_count": null,
      "outputs": [
        {
          "output_type": "stream",
          "text": [
            "('__label__de', ['Ich', 'würde', 'alles', 'tun,', 'um', 'dich', 'zu', 'beschützen.'])\n"
          ],
          "name": "stdout"
        }
      ]
    },
    {
      "cell_type": "code",
      "metadata": {
        "colab": {
          "base_uri": "https://localhost:8080/"
        },
        "id": "1qyTSoEoqfHs",
        "outputId": "5853474e-d97a-44d9-d5c1-1fc56fc398ff"
      },
      "source": [
        "data[4:7]"
      ],
      "execution_count": null,
      "outputs": [
        {
          "output_type": "execute_result",
          "data": {
            "text/plain": [
              "[('__label__ru', ['У', 'меня', 'есть', 'яблоко.']),\n",
              " ('__label__it', ['Non', 'possiamo', 'lasciarle', 'lì.']),\n",
              " ('__label__ru',\n",
              "  ['Том',\n",
              "   'считает,',\n",
              "   'что',\n",
              "   'школа',\n",
              "   '—',\n",
              "   'это',\n",
              "   'пустая',\n",
              "   'трата',\n",
              "   'времени.'])]"
            ]
          },
          "metadata": {
            "tags": []
          },
          "execution_count": 10
        }
      ]
    },
    {
      "cell_type": "markdown",
      "metadata": {
        "id": "9SWAg6ILocc6"
      },
      "source": [
        "Next, we will start implementing the Naive Bayes method. This technique is based on word counts, and we thus need to start by implementing a function to count the words and labels of our training set.\n",
        "\n",
        "`n_examples` is the total number of examples\n",
        "\n",
        "`n_words_per_label` is the total number of words for a given label\n",
        "\n",
        "`label_counts` is the number of times a given label appears in the training data\n",
        "\n",
        "`word_counts` is the number of times a word appears with a given label"
      ]
    },
    {
      "cell_type": "code",
      "metadata": {
        "id": "b3dIoTdGsaXL"
      },
      "source": [
        "dummy_data=data[:2]"
      ],
      "execution_count": null,
      "outputs": []
    },
    {
      "cell_type": "code",
      "metadata": {
        "id": "DL8Tj8aTskZK"
      },
      "source": [
        "ans=count_words(dummy_data)"
      ],
      "execution_count": null,
      "outputs": []
    },
    {
      "cell_type": "code",
      "metadata": {
        "colab": {
          "base_uri": "https://localhost:8080/"
        },
        "id": "eS7TsbCZskV6",
        "outputId": "909e09a6-f5e0-464c-ed7e-4b9c264cbaa4"
      },
      "source": [
        "ans"
      ],
      "execution_count": null,
      "outputs": [
        {
          "output_type": "execute_result",
          "data": {
            "text/plain": [
              "{'label_counts': defaultdict(<function __main__.count_words.<locals>.<lambda>>,\n",
              "             {'__label__de': 2}),\n",
              " 'n_examples': 2,\n",
              " 'n_words_per_label': defaultdict(<function __main__.count_words.<locals>.<lambda>>,\n",
              "             {'__label__de': 14}),\n",
              " 'word_counts': defaultdict(<function __main__.count_words.<locals>.<lambda>>,\n",
              "             {'__label__de': defaultdict(<function __main__.count_words.<locals>.<lambda>.<locals>.<lambda>>,\n",
              "                          {'Ich': 1.0,\n",
              "                           'Kunst': 1.0,\n",
              "                           'Tom': 1.0,\n",
              "                           'alles': 1.0,\n",
              "                           'an': 1.0,\n",
              "                           'beschützen.': 1.0,\n",
              "                           'dich': 1.0,\n",
              "                           'ist': 1.0,\n",
              "                           'tun,': 1.0,\n",
              "                           'um': 1.0,\n",
              "                           'uninteressiert.': 1.0,\n",
              "                           'völlig': 1.0,\n",
              "                           'würde': 1.0,\n",
              "                           'zu': 1.0})})}"
            ]
          },
          "metadata": {
            "tags": []
          },
          "execution_count": 22
        }
      ]
    },
    {
      "cell_type": "code",
      "metadata": {
        "colab": {
          "base_uri": "https://localhost:8080/"
        },
        "id": "AXGvXHgSsaIx",
        "outputId": "024ff688-9b4d-437d-99bc-22d67235a244"
      },
      "source": [
        "dummy_data"
      ],
      "execution_count": null,
      "outputs": [
        {
          "output_type": "execute_result",
          "data": {
            "text/plain": [
              "[('__label__de',\n",
              "  ['Ich', 'würde', 'alles', 'tun,', 'um', 'dich', 'zu', 'beschützen.']),\n",
              " ('__label__de', ['Tom', 'ist', 'an', 'Kunst', 'völlig', 'uninteressiert.'])]"
            ]
          },
          "metadata": {
            "tags": []
          },
          "execution_count": 29
        }
      ]
    },
    {
      "cell_type": "code",
      "metadata": {
        "id": "PmGvm22cocc7"
      },
      "source": [
        "def count_words(data):\n",
        "    n_examples = 0\n",
        "    n_words_per_label = defaultdict(lambda: 0)\n",
        "    label_counts = defaultdict(lambda: 0)\n",
        "    word_counts = defaultdict(lambda: defaultdict(lambda: 0.0))\n",
        "\n",
        "    for example in data:\n",
        "        label, sentence = example\n",
        "        ## FILL CODE\n",
        "        label_counts[label] +=1\n",
        "        n_examples +=1\n",
        "        for w in sentence:\n",
        "          word_counts[label][w] +=1\n",
        "          n_words_per_label[label] +=1\n",
        "\n",
        "\n",
        "\n",
        "\n",
        "    return {'label_counts': label_counts, \n",
        "            'word_counts': word_counts, \n",
        "            'n_examples': n_examples, \n",
        "            'n_words_per_label': n_words_per_label}"
      ],
      "execution_count": null,
      "outputs": []
    },
    {
      "cell_type": "markdown",
      "metadata": {
        "id": "y5oeUyuAocc7"
      },
      "source": [
        "Next, using the word and label counts from the previous function, we can implement the prediction function.\n",
        "\n",
        "Here, `mu` is a regularization parameter (Laplace smoothing), and `sentence` is the list of words corresponding to the test example."
      ]
    },
    {
      "cell_type": "code",
      "metadata": {
        "id": "fOy2obV4xjRW"
      },
      "source": [
        "import numpy as np"
      ],
      "execution_count": null,
      "outputs": []
    },
    {
      "cell_type": "code",
      "metadata": {
        "id": "WKSOyLK1occ7"
      },
      "source": [
        "def predict(sentence, mu, label_counts, word_counts, n_examples, n_words_per_label):\n",
        "    best_label = None\n",
        "    best_score = float('-inf')\n",
        "\n",
        "    for label in word_counts.keys():\n",
        "        score = 0.0\n",
        "        ## FILE CODE\n",
        "        my_vocab =len(word_counts[label])\n",
        "        for w in sentence:\n",
        "          word_cnt =word_counts[label][w] + mu\n",
        "          total_words = n_words_per_label[label]+ mu*my_vocab\n",
        "          score +=np.log(word_cnt/total_words)\n",
        "        score +=label_counts[label]/n_examples\n",
        "        if score >best_score:\n",
        "          best_score=score\n",
        "          best_label=label\n",
        "\n",
        "\n",
        "\n",
        "    return best_label"
      ],
      "execution_count": null,
      "outputs": []
    },
    {
      "cell_type": "markdown",
      "metadata": {
        "id": "q16wDCUBocc8"
      },
      "source": [
        "The next function will be used to evaluate the Naive Bayes model on a validation set. It computes the accuracy for a particular regularization parameter `mu`."
      ]
    },
    {
      "cell_type": "code",
      "metadata": {
        "id": "spLTFJ9Rocc8"
      },
      "source": [
        "def compute_accuracy(valid_data, mu, counts):\n",
        "    accuracy = 0.0\n",
        "    correct_preds=0.0\n",
        "    for label, sentence in valid_data:\n",
        "        ## FILL CODE\n",
        "        prediction=predict(sentence, mu, **counts)\n",
        "        if prediction==label:\n",
        "          correct_preds+=1\n",
        "        accuracy=correct_preds/len(valid_data)\n",
        "     \n",
        "    return accuracy"
      ],
      "execution_count": null,
      "outputs": []
    },
    {
      "cell_type": "code",
      "metadata": {
        "id": "4s6MlWKHocc8",
        "colab": {
          "base_uri": "https://localhost:8080/"
        },
        "outputId": "235297bf-212f-48d5-8965-7e992c218634"
      },
      "source": [
        "print(\"\")\n",
        "print(\"** Naive Bayes **\")\n",
        "print(\"\")\n",
        "\n",
        "mu = 1.0\n",
        "train_data = load_data(\"/content/drive/MyDrive/NLPWEEK1/train1.txt\")\n",
        "valid_data = load_data(\"/content/drive/MyDrive/NLPWEEK1/valid1.txt\")\n",
        "counts = count_words(train_data)\n",
        "\n",
        "print(\"Validation accuracy: %.3f\" % compute_accuracy(valid_data, mu, counts))\n",
        "print(\"\")"
      ],
      "execution_count": null,
      "outputs": [
        {
          "output_type": "stream",
          "text": [
            "\n",
            "** Naive Bayes **\n",
            "\n",
            "Validation accuracy: 0.915\n",
            "\n"
          ],
          "name": "stdout"
        }
      ]
    },
    {
      "cell_type": "code",
      "metadata": {
        "id": "nnGf2ngjocc8"
      },
      "source": [
        ""
      ],
      "execution_count": null,
      "outputs": []
    }
  ]
}